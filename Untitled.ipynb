{
 "cells": [
  {
   "cell_type": "code",
   "execution_count": 1,
   "id": "49500414",
   "metadata": {},
   "outputs": [
    {
     "data": {
      "text/plain": [
       "(False, True)"
      ]
     },
     "execution_count": 1,
     "metadata": {},
     "output_type": "execute_result"
    }
   ],
   "source": [
    "class castle:\n",
    "    def __init__(self, name, strength):\n",
    "        self.name = name\n",
    "        self.strength = strength\n",
    "    def withstand_wave(self, wave_power):\n",
    "        return self.strength > wave_power\n",
    "def build_castle(type_of_castle):\n",
    "    if type_of_castle == \"sand castle\":\n",
    "        return castle(\"sand castle\", 5)  #let’s use the random strength of 5\n",
    "    elif type_of_castle == \"data castle\":\n",
    "        return castle(\"data castle\", 100)  #eheh much stronger\n",
    "    else:\n",
    "        return None\n",
    "# now create the sand castle and data castle\n",
    "sand_castle = build_castle(\"sand castle\")\n",
    "data_castle = build_castle(\"data castle\")\n",
    "# let’s check how they do against the waves\n",
    "sand_castle_resistance = sand_castle.withstand_wave(10)\n",
    "data_castle_resistance = data_castle.withstand_wave(10)\n",
    "sand_castle_resistance, data_castle_resistance"
   ]
  },
  {
   "cell_type": "code",
   "execution_count": null,
   "id": "f8fe22b5",
   "metadata": {},
   "outputs": [],
   "source": []
  }
 ],
 "metadata": {
  "kernelspec": {
   "display_name": "Python 3 (ipykernel)",
   "language": "python",
   "name": "python3"
  },
  "language_info": {
   "codemirror_mode": {
    "name": "ipython",
    "version": 3
   },
   "file_extension": ".py",
   "mimetype": "text/x-python",
   "name": "python",
   "nbconvert_exporter": "python",
   "pygments_lexer": "ipython3",
   "version": "3.11.5"
  }
 },
 "nbformat": 4,
 "nbformat_minor": 5
}
